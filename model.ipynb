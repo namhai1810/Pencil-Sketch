{
 "cells": [
  {
   "cell_type": "code",
   "execution_count": 1,
   "metadata": {},
   "outputs": [],
   "source": [
    "import cv2\n",
    "import numpy as np\n"
   ]
  },
  {
   "cell_type": "code",
   "execution_count": 2,
   "metadata": {},
   "outputs": [
    {
     "name": "stderr",
     "output_type": "stream",
     "text": [
      "qt.qpa.plugin: Could not find the Qt platform plugin \"wayland\" in \"/home/namhai18/.local/lib/python3.10/site-packages/cv2/qt/plugins\"\n"
     ]
    }
   ],
   "source": [
    "img = cv2.imread('images/face.webp')\n",
    "cv2.imshow('img', img)\n",
    "cv2.waitKey(0)\n",
    "cv2.destroyAllWindows()"
   ]
  },
  {
   "cell_type": "code",
   "execution_count": 3,
   "metadata": {},
   "outputs": [],
   "source": [
    "# step 1: convert to gray scale\n",
    "gray = cv2.cvtColor(img, cv2.COLOR_BGR2GRAY)\n",
    "cv2.imshow('gr', gray)\n",
    "cv2.waitKey(0)\n",
    "cv2.destroyAllWindows()"
   ]
  },
  {
   "cell_type": "code",
   "execution_count": 4,
   "metadata": {},
   "outputs": [],
   "source": [
    "# step 2: apply gaussian blur\n",
    "blur = cv2.GaussianBlur(gray,(5,5), 0)\n",
    "cv2.imshow('gaussian_blur', blur)\n",
    "cv2.waitKey(0)\n",
    "cv2.destroyAllWindows()"
   ]
  },
  {
   "cell_type": "code",
   "execution_count": 5,
   "metadata": {},
   "outputs": [],
   "source": [
    "#Step 3: division image\n",
    "division_img = cv2.divide(gray, blur, scale = 256)  \n",
    "cv2.imshow('division image', division_img)\n",
    "cv2.waitKey(0)\n",
    "cv2.destroyAllWindows()"
   ]
  },
  {
   "cell_type": "code",
   "execution_count": 6,
   "metadata": {},
   "outputs": [],
   "source": [
    "#Step 4: adjusting gamma factor\n",
    "gamma = 0.3\n",
    "if gamma == 0:\n",
    "    gamma = 0.01\n",
    "invgamma = 1/ gamma\n",
    "lut = np.array([((i/255)**invgamma)*255 for i in range(0,256)])\n",
    "pencil_sketch_img =cv2.LUT(division_img.astype('uint8'), lut.astype('uint8'))\n",
    "cv2.imshow('pencil sketch img', pencil_sketch_img)\n",
    "cv2.waitKey(0)\n",
    "cv2.destroyAllWindows()"
   ]
  },
  {
   "cell_type": "code",
   "execution_count": 7,
   "metadata": {},
   "outputs": [],
   "source": [
    "def pencil_sketch(img, ksize, gamma):\n",
    "    # step 1: convert to gray scale\n",
    "    gray = cv2.cvtColor(img, cv2.COLOR_BGR2GRAY)\n",
    "    # step 2: apply gaussian blur\n",
    "    blur = cv2.GaussianBlur(gray,(ksize, ksize), 0)\n",
    "    #Step 3: division image\n",
    "    division_img = cv2.divide(gray, blur, scale = 256)  \n",
    "    #Step 4: adjusting gamma factor\n",
    "    if gamma == 0:\n",
    "        gamma = 0.01\n",
    "    elif gamma < 0:\n",
    "        raise Exception('Cannot be nagative', 'Gamma value cannot be negative number (range = 0-1)')\n",
    "    elif gamma > 1:\n",
    "        raise Exception('Cannot be greater than 1', 'Gamma value cannot be greater than 1 (range = 0-1)')\n",
    "\n",
    "    invgamma = 1/ gamma\n",
    "    lut = np.array([((i/255)**invgamma)*255 for i in range(0,256)])\n",
    "    pencil_sketch_img =cv2.LUT(division_img.astype('uint8'), lut.astype('uint8'))\n",
    "    return pencil_sketch_img"
   ]
  },
  {
   "cell_type": "code",
   "execution_count": 8,
   "metadata": {},
   "outputs": [],
   "source": [
    "pencil_img = pencil_sketch(img, 5,0.2)"
   ]
  },
  {
   "cell_type": "code",
   "execution_count": 9,
   "metadata": {},
   "outputs": [],
   "source": [
    "cv2.imshow('pencil_img',pencil_img)\n",
    "cv2.waitKey(0)\n",
    "cv2.destroyAllWindows()"
   ]
  },
  {
   "attachments": {},
   "cell_type": "markdown",
   "metadata": {},
   "source": [
    "## GUI for Pencil Sketch"
   ]
  },
  {
   "cell_type": "code",
   "execution_count": 10,
   "metadata": {},
   "outputs": [],
   "source": [
    "img = cv2.imread('images/face.webp')\n",
    "\n",
    "def nothing(x):\n",
    "    pass\n",
    "#create control pannel\n",
    "cv2.namedWindow('Control pannel')\n",
    "cv2.createTrackbar('ksize', 'Control pannel',1, 100, nothing)\n",
    "cv2.createTrackbar('gamma', 'Control pannel',1, 100, nothing)\n",
    "\n",
    "while True:\n",
    "\n",
    "    #take k_size\n",
    "    k = cv2.getTrackbarPos('ksize', 'Control pannel')\n",
    "    # k_size should be odd number\n",
    "    k = 2 * k + 1\n",
    "    # gamma scale 0 - 1\n",
    "    gamma = cv2.getTrackbarPos('gamma', 'Control pannel')\n",
    "    gamma /= 100\n",
    "    pencil_img = pencil_sketch(img, k, gamma)\n",
    "\n",
    "\n",
    "    cv2.imshow('Control pannel', pencil_img)\n",
    "    if cv2.waitKey(1) == ord('q'):\n",
    "        break\n",
    "cv2.waitKey(0)\n",
    "cv2.destroyAllWindows()"
   ]
  },
  {
   "cell_type": "code",
   "execution_count": null,
   "metadata": {},
   "outputs": [],
   "source": []
  }
 ],
 "metadata": {
  "kernelspec": {
   "display_name": "Python 3",
   "language": "python",
   "name": "python3"
  },
  "language_info": {
   "codemirror_mode": {
    "name": "ipython",
    "version": 3
   },
   "file_extension": ".py",
   "mimetype": "text/x-python",
   "name": "python",
   "nbconvert_exporter": "python",
   "pygments_lexer": "ipython3",
   "version": "3.10.6"
  },
  "orig_nbformat": 4
 },
 "nbformat": 4,
 "nbformat_minor": 2
}
